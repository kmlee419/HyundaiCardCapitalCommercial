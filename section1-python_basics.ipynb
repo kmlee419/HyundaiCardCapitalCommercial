{
 "cells": [
  {
   "cell_type": "markdown",
   "metadata": {
    "id": "EDQfWhm2jzzX"
   },
   "source": [
    "# Part 1 : Numbers and Strings"
   ]
  },
  {
   "cell_type": "markdown",
   "metadata": {
    "id": "K3__zG0cjzzb"
   },
   "source": [
    "* Numbers and strings are important data types in any Python program.\n",
    "    * These are the fundamental building blocks we use to build more complex data structures\n",
    "* In this part, you will learn how to work with numbers and strings. We will write several simple programs that use them.\n",
    "\n",
    "## 1.1 Variables"
   ]
  },
  {
   "cell_type": "markdown",
   "metadata": {
    "id": "uHRsD3cLjzzc"
   },
   "source": [
    "* A variable is a named storage location in a computer program.\n",
    "* There are many different types of variables, each type used to store different things\n",
    "* You 'define' a variable by telling the compiler:\n",
    "    * What name you will use to refer to it\n",
    "    * The initial value of the variable\n",
    "* You use an assignment statement to place a value into a variable\n",
    "\n",
    "### 1.1.1 Variable Definition"
   ]
  },
  {
   "cell_type": "markdown",
   "metadata": {
    "id": "W_fcJSSkjzzc"
   },
   "source": [
    "* To define a variable, you must specify an initial value\n",
    "* Use the **assignment statement** '=' to place a new value into a variable\n",
    "    * Beware the '=' sign is NOT used for comparison:\n",
    "        * It copies the value on the right side into the variable on the left side\n",
    "        * Guess what the comparison operator (We will learn about it in the next lecture, of course :))"
   ]
  },
  {
   "cell_type": "code",
   "execution_count": null,
   "metadata": {
    "id": "4YowrbSxjzzd"
   },
   "outputs": [],
   "source": [
    "variable1 = 10"
   ]
  },
  {
   "cell_type": "code",
   "execution_count": null,
   "metadata": {
    "id": "Jf6DNVXQjzze"
   },
   "outputs": [],
   "source": []
  },
  {
   "cell_type": "code",
   "execution_count": null,
   "metadata": {
    "id": "62J8hhW8jzze"
   },
   "outputs": [],
   "source": [
    "# What's wrong with this code?\n",
    "\n",
    "bottles = 3\n",
    "total = bottles * BOTTLE_VOLUME\n",
    "print(total)"
   ]
  },
  {
   "cell_type": "markdown",
   "metadata": {
    "id": "8Cpt-HdRjzzh"
   },
   "source": [
    "### 1.1.2 Types\n",
    "* In Python variables, literals, and constants have a \"type\".\n",
    "    * Python knows the difference between an integer number and a string."
   ]
  },
  {
   "cell_type": "code",
   "execution_count": null,
   "metadata": {
    "id": "-gQ4mzq-jzzi"
   },
   "outputs": [],
   "source": []
  },
  {
   "cell_type": "markdown",
   "metadata": {
    "id": "7007wSMyjzzi"
   },
   "source": [
    "### 1.1.3 Basic Arithmetic Operators\n",
    "* Python supports all of the basic arithmetic operations:\n",
    "    * Addition \"+\"\n",
    "    * Subtraction \"-\"\n",
    "    * Multiplication \"*\"\n",
    "    * Division \"/\""
   ]
  },
  {
   "cell_type": "code",
   "execution_count": null,
   "metadata": {
    "id": "hoQfJswSjzzi"
   },
   "outputs": [],
   "source": []
  },
  {
   "cell_type": "markdown",
   "metadata": {
    "id": "Rl0n6SXyjzzk"
   },
   "source": [
    "### 1.1.4 Python libraries (modules)\n",
    "* A library is a collection of code, written and compiled by someone else, that is ready for you to use in your program\n",
    "* A standard library is a library that is considered part of the language and must be included with any Python system.\n",
    "* Python’s standard library is organized into modules.\n",
    "    * Related functions and data types are grouped into the same module.\n",
    "    * Functions defined in a module must be explicitly loaded into your program before they can be used.\n",
    "* Using functions from the \"math\" module\n",
    "    * For example, to use the sqrt() function, which computes the square root of its argument:\n",
    "    * https://docs.python.org/3/library/math.html"
   ]
  },
  {
   "cell_type": "code",
   "execution_count": null,
   "metadata": {
    "id": "oaXKXii2jzzk"
   },
   "outputs": [],
   "source": [
    "import math"
   ]
  },
  {
   "cell_type": "code",
   "execution_count": null,
   "metadata": {
    "id": "5_Jf0UC6jzzk"
   },
   "outputs": [],
   "source": [
    "# Then you can simply call the function as\n",
    "x = 4.0\n",
    "y = math.sqrt(x)\n",
    "print(y)"
   ]
  },
  {
   "cell_type": "markdown",
   "metadata": {
    "id": "CgCbHqbWjzzl"
   },
   "source": [
    "* Functions from the \"math\" module:"
   ]
  },
  {
   "cell_type": "code",
   "execution_count": null,
   "metadata": {
    "id": "Kj-xF9iJjzzl"
   },
   "outputs": [],
   "source": []
  },
  {
   "cell_type": "markdown",
   "metadata": {
    "id": "p48Qo61Xjzzl"
   },
   "source": [
    "## 1.2 Strings"
   ]
  },
  {
   "cell_type": "markdown",
   "metadata": {
    "id": "H-6-2wLYjzzl"
   },
   "source": [
    "* In python, string literals are specified by enclosing a sequence of **characters** within a matching pair of either single or double quotes."
   ]
  },
  {
   "cell_type": "code",
   "execution_count": null,
   "metadata": {
    "id": "1HON2Bf6jzzl"
   },
   "outputs": [],
   "source": [
    "print(\"This is a string.\")"
   ]
  },
  {
   "cell_type": "code",
   "execution_count": null,
   "metadata": {
    "id": "lDEKnAtNjzzm"
   },
   "outputs": [],
   "source": [
    "variable = \"Hello\"\n",
    "print(variable)"
   ]
  },
  {
   "cell_type": "code",
   "execution_count": null,
   "metadata": {
    "id": "xOKy1wWLjzzm"
   },
   "outputs": [],
   "source": [
    "type(variable)"
   ]
  },
  {
   "cell_type": "markdown",
   "metadata": {
    "id": "g67BUbUOjzzn"
   },
   "source": [
    "### 1.2.1  Slicing operations"
   ]
  },
  {
   "cell_type": "markdown",
   "metadata": {
    "id": "YFEI10wojzzn"
   },
   "source": [
    "* The [  ] operator returns a char at a given index inside a String:\n",
    "* You can see more slicing operations through https://stackoverflow.com/questions/509211/understanding-slice-notation."
   ]
  },
  {
   "cell_type": "code",
   "execution_count": null,
   "metadata": {
    "id": "5-mswD9xjzzo"
   },
   "outputs": [],
   "source": [
    "name = \"Hyundai Card/Capital/Commercial\"\n",
    "\n",
    "print(name[0])"
   ]
  },
  {
   "cell_type": "code",
   "execution_count": null,
   "metadata": {
    "id": "c0_pF1Nqjzzo"
   },
   "outputs": [],
   "source": []
  },
  {
   "cell_type": "markdown",
   "metadata": {
    "id": "QqtPc_2ljzzo"
   },
   "source": [
    "# Part 2 : Decisions and Relational Operators"
   ]
  },
  {
   "cell_type": "markdown",
   "metadata": {
    "id": "f5EEm_A4jzzo"
   },
   "source": [
    "* One of the essential features of computer programs is to make decisions. Like a train that changes tracks depending on how the switches are set, a program can take different actions depending on inputs and other circumstances.\n",
    "* In this part, you will learn how to program simple and complex decisions. You will apply what you learn to the task of checking user input.\n",
    "\n",
    "## 2.1 The if statement\n",
    "* A computer program often needs to make decisions based on input, or circumstances\n",
    "* The two keywords of the if statement are:\n",
    "    * if\n",
    "    * else\n",
    "* The ***if*** statement allows a program to carry out different actions depending on the nature of the data to be processed."
   ]
  },
  {
   "cell_type": "code",
   "execution_count": null,
   "metadata": {
    "id": "AnthBtGljzzo"
   },
   "outputs": [],
   "source": [
    "temperature = 10\n",
    "\n",
    "if temperature > 30:\n",
    "    message = \"hot\"\n",
    "else:\n",
    "    message = \"cold\"\n",
    "    \n",
    "print(message)"
   ]
  },
  {
   "cell_type": "markdown",
   "metadata": {
    "id": "I0T0nOIqjzzp"
   },
   "source": [
    "### 2.1.1 Relational operators\n",
    "* Every if statement has a condition\n",
    "    * Usually compares two values with an operator"
   ]
  },
  {
   "cell_type": "code",
   "execution_count": null,
   "metadata": {
    "id": "TgyfWU-Ijzzp"
   },
   "outputs": [],
   "source": [
    "temperature = 35\n",
    "\n",
    "if temperature >= 30: #greater than or equal\n",
    "    message = \"hot\"\n",
    "else:\n",
    "    message = \"cold\"\n",
    "    \n",
    "print(message)"
   ]
  },
  {
   "cell_type": "code",
   "execution_count": null,
   "metadata": {
    "id": "xNqRe6Jsjzzp"
   },
   "outputs": [],
   "source": [
    "temperature = 35\n",
    "\n",
    "if temperature < 30: #less than\n",
    "    message = \"hot\"\n",
    "else:\n",
    "    message = \"cold\"\n",
    "    \n",
    "print(message)"
   ]
  },
  {
   "cell_type": "code",
   "execution_count": null,
   "metadata": {
    "id": "-ZbkgPLvjzzp"
   },
   "outputs": [],
   "source": [
    "temperature = 35\n",
    "\n",
    "if temperature <= 30: #less than or equal\n",
    "    message = \"hot\"\n",
    "else:\n",
    "    message = \"cold\"\n",
    "    \n",
    "print(message)"
   ]
  },
  {
   "cell_type": "code",
   "execution_count": null,
   "metadata": {
    "id": "OX6AM0JDjzzq"
   },
   "outputs": [],
   "source": []
  },
  {
   "cell_type": "markdown",
   "metadata": {
    "id": "usN15LXcjzzq"
   },
   "source": [
    "## 2.2 The elif statement\n",
    "* This is short for Else, if...\n",
    "* As soon as one on the test conditions succeeds, the statement block is executed\n",
    "    * No other tests are attempted\n",
    "* If none of the test conditions succeed the final else clause is executed\n",
    "* Let's consider the case of grading if the score is between 0.0 and 1.0:\n",
    "\n",
    "| Score |                       Grade                         |\n",
    "|:-----:|:----------------------------------------------------:|\n",
    "| >=0.9 | A |\n",
    "| >=0.8 | B |\n",
    "| >=0.7 | C |\n",
    "| >=0.6 | D |\n",
    "| <0.6  | F |"
   ]
  },
  {
   "cell_type": "code",
   "execution_count": null,
   "metadata": {
    "id": "aHMEW92Sjzzq"
   },
   "outputs": [],
   "source": [
    "score = 0.75\n",
    "\n",
    "if score >= 0.9:\n",
    "    grade = \"A\"\n",
    "elif score >= 0.8:\n",
    "    grade = \"B\"\n",
    "elif score >= 0.7:\n",
    "    grade = \"C\"\n",
    "elif score >= 0.6:\n",
    "    grade = \"D\"\n",
    "else:\n",
    "    grade = \"F\"\n",
    "    \n",
    "print(grade)"
   ]
  },
  {
   "cell_type": "markdown",
   "metadata": {
    "id": "v_zGZLRsjzzs"
   },
   "source": [
    "# Part 3 : Loops"
   ]
  },
  {
   "cell_type": "markdown",
   "metadata": {
    "id": "4qVbcsvojzzt"
   },
   "source": [
    "* In a loop, a part of a program is repeated over and over, until a specific goal is reached. Loops are important for calculations that require repeated steps and for processing input consisting of many data items. \n",
    "* In this part, you will learn about loop statements in Python, as well as techniques for writing programs that process input and simulate activities in the real world.\n",
    "\n",
    "## 3.1 The while loop\n",
    "* In Python, the **while** statement implements such a repetition. It has the form"
   ]
  },
  {
   "cell_type": "code",
   "execution_count": null,
   "metadata": {
    "id": "dR0Qh9_zjzzt"
   },
   "outputs": [],
   "source": [
    "while condition:\n",
    "    statements"
   ]
  },
  {
   "cell_type": "markdown",
   "metadata": {
    "id": "Xd0Hgc-kjzzt"
   },
   "source": [
    "* As long as the condition remains true, the statements inside the **while** loop are executed. This statement block is called the **body** of the **while** loop.\n",
    "* Here is a simple problem that counts down from five and then says \"Blastoff!\""
   ]
  },
  {
   "cell_type": "code",
   "execution_count": null,
   "metadata": {
    "id": "_RUojUs1jzzu"
   },
   "outputs": [],
   "source": [
    "n = 5\n",
    "while n > 0:\n",
    "    print(n)\n",
    "    n = n - 1"
   ]
  },
  {
   "cell_type": "markdown",
   "metadata": {
    "id": "3kGPoabJjzzu"
   },
   "source": [
    "### Common error: Infinite loops"
   ]
  },
  {
   "cell_type": "markdown",
   "metadata": {
    "id": "JcqdU4tmjzzu"
   },
   "source": [
    "* What is the wrong with this loop?"
   ]
  },
  {
   "cell_type": "code",
   "execution_count": null,
   "metadata": {
    "id": "WT90A_Umjzzv"
   },
   "outputs": [],
   "source": [
    "n = 5\n",
    "while n > 0:\n",
    "    print('Lather')\n",
    "    print('Rinse')"
   ]
  },
  {
   "cell_type": "markdown",
   "metadata": {
    "id": "ZREOV6Wnjzzw"
   },
   "source": [
    "## 3.3 The for loop"
   ]
  },
  {
   "cell_type": "markdown",
   "metadata": {
    "id": "wv5wSQKtjzzw"
   },
   "source": [
    "* We can write a loop to run the loop once for each of the items in a set using the Python for construct.\n",
    "* These loops are called “definite loops” because they execute an exact number of times."
   ]
  },
  {
   "cell_type": "code",
   "execution_count": null,
   "metadata": {
    "id": "XIxeQw_xjzzw"
   },
   "outputs": [],
   "source": [
    "for i in [1, 2, 3, 4, 5]:\n",
    "    print(\"aa\")\n",
    "\n",
    "print('Done!')"
   ]
  },
  {
   "cell_type": "markdown",
   "metadata": {
    "id": "w68K1p6ljzzw"
   },
   "source": [
    "* Python provides the **range** function for generating a sequence of intergers that can be used with the **for** loop."
   ]
  },
  {
   "cell_type": "code",
   "execution_count": null,
   "metadata": {
    "id": "Vj9qcVHejzzx"
   },
   "outputs": [],
   "source": [
    "for i in range(1, 30):\n",
    "    print(\"aa\")\n",
    "\n",
    "print('Done!')"
   ]
  },
  {
   "cell_type": "markdown",
   "metadata": {
    "id": "S3Ec-qlMjzzx"
   },
   "source": [
    "## 3.4 Random numbers and Simulations"
   ]
  },
  {
   "cell_type": "markdown",
   "metadata": {
    "id": "Sxyjwvyqjzzx"
   },
   "source": [
    "* A simulation program uses the computer to simulate an activity in the real world (or an imaginary one). In many simulations, one or more loops are used to modify the state of a system and observe the changes.\n",
    "\n",
    "### 3.4.1 Generating random numbers"
   ]
  },
  {
   "cell_type": "markdown",
   "metadata": {
    "id": "0eSIXa_Djzzx"
   },
   "source": [
    "* The Python library has a random number generator that produces numbers that appear to be random.\n",
    "    * The numbers are not completely random.  The numbers are drawn from a sequence of numbers that does not repeat for a long time.\n",
    "    * random() returns a number that is >= 0 and < 1"
   ]
  },
  {
   "cell_type": "code",
   "execution_count": null,
   "metadata": {
    "id": "ALs1caVcjzzy"
   },
   "outputs": [],
   "source": [
    "from random import random"
   ]
  },
  {
   "cell_type": "code",
   "execution_count": null,
   "metadata": {
    "id": "cqP6cdDsjzzy"
   },
   "outputs": [],
   "source": [
    "for i in range(10):\n",
    "    value = random()\n",
    "    print(value)"
   ]
  },
  {
   "cell_type": "markdown",
   "metadata": {
    "id": "nXmSGqJDjzzy"
   },
   "source": [
    "### 3.4.2 Simulating Die tosses"
   ]
  },
  {
   "cell_type": "markdown",
   "metadata": {
    "id": "ZzBygCXvjzzy"
   },
   "source": [
    "* In actual applications, you need to transform the output from the random number generator into a specific range. For example, to simulate the throw of a die, you need random integers between 1 and 6.\n",
    "* Python provides a separate function for generating a random integer within a given range: **randint** function"
   ]
  },
  {
   "cell_type": "code",
   "execution_count": null,
   "metadata": {
    "id": "QdukLe2Ojzzy"
   },
   "outputs": [],
   "source": [
    "from random import randint\n",
    "\n",
    "for i in range(20):\n",
    "    d1 = randint(1, 6)\n",
    "    \n",
    "    print(d1)"
   ]
  },
  {
   "cell_type": "code",
   "execution_count": null,
   "metadata": {
    "id": "bC0I2zynjzzy"
   },
   "outputs": [],
   "source": []
  },
  {
   "cell_type": "markdown",
   "metadata": {
    "id": "y62PFNzyjzzz"
   },
   "source": [
    "# Part 4 : Functions"
   ]
  },
  {
   "cell_type": "markdown",
   "metadata": {
    "id": "Imi16R1gjzzz"
   },
   "source": [
    "* A function packages a computation consisting of multiple steps into a form that can be easily understood and reused. \n",
    "* In this part, you will learn how to design and implement your own functions using the process of stepwise refinement, you will be able to break up complex tasks into sets of cooperating functions.\n",
    "\n",
    "## 4.1 Functions as Black Boxes"
   ]
  },
  {
   "cell_type": "markdown",
   "metadata": {
    "id": "iTv5vlh4jzzz"
   },
   "source": [
    "* A function is a sequence of instructions with a name.\n",
    "* You call a function in order to execute its instructions.\n",
    "* By using the expression round(6.8275, 2), your program calls the round function, asking it to round 6.8275 to two decimal digits."
   ]
  },
  {
   "cell_type": "code",
   "execution_count": null,
   "metadata": {
    "id": "V4r40VDEjzzz"
   },
   "outputs": [],
   "source": [
    "price = round(6.8275, 2)"
   ]
  },
  {
   "cell_type": "code",
   "execution_count": null,
   "metadata": {
    "id": "aBWOMw7xjzzz"
   },
   "outputs": [],
   "source": [
    "print(price)"
   ]
  },
  {
   "cell_type": "markdown",
   "metadata": {
    "id": "qvxFrcBDjzzz"
   },
   "source": [
    "## 4.2 Implementing and Tesing Functions"
   ]
  },
  {
   "cell_type": "markdown",
   "metadata": {
    "id": "-ccekimCjzz0"
   },
   "source": [
    "* We will start with a very simple example: a function to compute the volume of a cube with a given side length.\n",
    "* When writing this function, you need to \n",
    "    * Pick a name for the function (cubeVolume).\n",
    "    * Define a variable for each argument (sideLength). These variables are called the **parameter variables**."
   ]
  },
  {
   "cell_type": "code",
   "execution_count": null,
   "metadata": {
    "id": "IMtUego9jzz0"
   },
   "outputs": [],
   "source": [
    "def cubeVolume(sideLength):\n",
    "    volume = sideLength ** 3\n",
    "    return volume"
   ]
  },
  {
   "cell_type": "markdown",
   "metadata": {
    "id": "54fNZQoejzz0"
   },
   "source": [
    "* You can test/call the function."
   ]
  },
  {
   "cell_type": "code",
   "execution_count": null,
   "metadata": {
    "id": "ANgoHVXIjzz1"
   },
   "outputs": [],
   "source": []
  },
  {
   "cell_type": "markdown",
   "metadata": {
    "id": "bnrjXgqJjzz1"
   },
   "source": [
    "# Part 5: Lists"
   ]
  },
  {
   "cell_type": "markdown",
   "metadata": {
    "id": "uqOf5Dtwjzz1"
   },
   "source": [
    "* In many programs, you need to collect large numbers of values. In Python, you use the list structure for this purpose.\n",
    "* A list is a container in a linear or sequential order. Lists can automatically grow to any desired size as new items are added and shrink as items are removed.\n",
    "* In this part, you will learn about lists and several common algorithms for processing them.\n",
    "\n",
    "## 5.1 Basic Properties of Lists"
   ]
  },
  {
   "cell_type": "markdown",
   "metadata": {
    "id": "vzEDF_iXjzz1"
   },
   "source": [
    "* Like a string, a list is a sequence of values. The values in list are called elements or sometimes items.\n",
    "* There are several ways to create a new list; the simplest is to enclose the elements in square brackets."
   ]
  },
  {
   "cell_type": "code",
   "execution_count": null,
   "metadata": {
    "id": "C7ni98zWjzz2"
   },
   "outputs": [],
   "source": [
    "list1 = [10, 20, 30, 40]\n",
    "list2 = ['Seoul', 'Daejeon', 'Busan']\n",
    "list3 = []"
   ]
  },
  {
   "cell_type": "code",
   "execution_count": null,
   "metadata": {
    "id": "BnR-aL2Vjzz2"
   },
   "outputs": [],
   "source": []
  },
  {
   "cell_type": "markdown",
   "metadata": {
    "id": "8OKAY8gcjzz2"
   },
   "source": [
    "* To access a list element, you specify which index you want to use. "
   ]
  },
  {
   "cell_type": "code",
   "execution_count": null,
   "metadata": {
    "id": "ofHNlJU5jzz2"
   },
   "outputs": [],
   "source": [
    "values = [32, 54, 67.5, 29, 35, 80, 115]\n",
    "\n",
    "print(values[0])"
   ]
  },
  {
   "cell_type": "markdown",
   "metadata": {
    "id": "ZQx_ElV8jzz3"
   },
   "source": [
    "* You can check the length of a list using **len** function."
   ]
  },
  {
   "cell_type": "code",
   "execution_count": null,
   "metadata": {
    "id": "PpztkwuYjzz3"
   },
   "outputs": [],
   "source": [
    "len(values)"
   ]
  },
  {
   "cell_type": "markdown",
   "metadata": {
    "id": "rXkDV72ujzz3"
   },
   "source": [
    "## 5.2 List Operations\n",
    "### 5.2.1 Appending Elements"
   ]
  },
  {
   "cell_type": "markdown",
   "metadata": {
    "id": "DEQLEA4ijzz3"
   },
   "source": [
    "* You can create a list and add elements to the end as needed."
   ]
  },
  {
   "cell_type": "code",
   "execution_count": null,
   "metadata": {
    "id": "Ox0gsVlCjzz4"
   },
   "outputs": [],
   "source": [
    "fruits = ['Apple', 'Banana', 'Kiwi']"
   ]
  },
  {
   "cell_type": "code",
   "execution_count": null,
   "metadata": {
    "id": "ZofQakz5jzz4"
   },
   "outputs": [],
   "source": [
    "fruits.append('Grape')"
   ]
  },
  {
   "cell_type": "code",
   "execution_count": null,
   "metadata": {
    "id": "af5ZWhx9jzz4"
   },
   "outputs": [],
   "source": []
  },
  {
   "cell_type": "markdown",
   "metadata": {
    "id": "BrlGEln9jzz4"
   },
   "source": [
    "### 5.2.2 Inserting an Element"
   ]
  },
  {
   "cell_type": "markdown",
   "metadata": {
    "id": "Bk7ckP2zjzz4"
   },
   "source": [
    "* Sometimes the order in which elements are added to a list is important.\n",
    "* A new element has to be inserted at a specific position in the list."
   ]
  },
  {
   "cell_type": "code",
   "execution_count": null,
   "metadata": {
    "id": "r4_r9bMgjzz4"
   },
   "outputs": [],
   "source": [
    "fruits.insert(2, 'Avocado')"
   ]
  },
  {
   "cell_type": "code",
   "execution_count": null,
   "metadata": {
    "id": "f66YDNmfjzz5"
   },
   "outputs": [],
   "source": []
  },
  {
   "cell_type": "markdown",
   "metadata": {
    "id": "gyU18f2ujzz5"
   },
   "source": [
    "### 5.2.3 Removing an Element"
   ]
  },
  {
   "cell_type": "markdown",
   "metadata": {
    "id": "nmrY2HrBjzz5"
   },
   "source": [
    "* The pop() method removes the element at a given position."
   ]
  },
  {
   "cell_type": "code",
   "execution_count": null,
   "metadata": {
    "id": "UDJ2yI0_jzz5"
   },
   "outputs": [],
   "source": [
    "fruits.pop(2)"
   ]
  },
  {
   "cell_type": "code",
   "execution_count": null,
   "metadata": {
    "id": "DzTHyX5cjzz5"
   },
   "outputs": [],
   "source": []
  },
  {
   "cell_type": "markdown",
   "metadata": {
    "id": "KyNmAdItjzz5"
   },
   "source": [
    "* The **remove** method removes an element by *value* instead of by *position*."
   ]
  },
  {
   "cell_type": "code",
   "execution_count": null,
   "metadata": {
    "id": "vX8Niwxbjzz6"
   },
   "outputs": [],
   "source": [
    "fruits.remove(\"Banana\")"
   ]
  },
  {
   "cell_type": "code",
   "execution_count": null,
   "metadata": {
    "id": "2kh6eny6jzz6"
   },
   "outputs": [],
   "source": []
  },
  {
   "cell_type": "markdown",
   "metadata": {
    "id": "vN477XDqjzz9"
   },
   "source": [
    "### Exercise: Let's write a program to fill the list with 6 random numbers from 1 to 45 that do not overlap.\n",
    "\n",
    "1. Write a code to fill the list (named as **candidates**) with 45 numbers from 1 to 45."
   ]
  },
  {
   "cell_type": "code",
   "execution_count": null,
   "metadata": {
    "id": "lj-Fll1Tjzz9"
   },
   "outputs": [],
   "source": [
    "candidates = []\n",
    "for i in range(1,46):\n",
    "    candidates.append(i)"
   ]
  },
  {
   "cell_type": "markdown",
   "metadata": {
    "id": "XvLMUssMjzz9"
   },
   "source": [
    "2. Write a code to fill the list (named as **picked**) with choosing 6 numbers in a list **candidates** randomly (when a number is picked, then the number will never be chosen again)."
   ]
  },
  {
   "cell_type": "code",
   "execution_count": null,
   "metadata": {
    "id": "IdShKCZGjzz-"
   },
   "outputs": [],
   "source": [
    "picked = []\n",
    "for i in range(6):\n",
    "    index = randint(0, len(candidates))\n",
    "    pick_number = candidates[index]\n",
    "    picked.append(pick_number)\n",
    "    candidates.pop(index)"
   ]
  },
  {
   "cell_type": "markdown",
   "metadata": {
    "id": "M6FKYBTHjzz-"
   },
   "source": [
    "3. Now, let's make the full process of the code with a function (named as **lotto_auto**). "
   ]
  },
  {
   "cell_type": "code",
   "execution_count": null,
   "metadata": {
    "id": "TfEXHrH0jzz-"
   },
   "outputs": [],
   "source": [
    "def lotto_auto():\n",
    "    candidates = []\n",
    "    for i in range(1,46):\n",
    "        candidates.append(i)\n",
    "        \n",
    "    picked = []\n",
    "    for i in range(6):\n",
    "        index = randint(0, len(candidates))\n",
    "        pick_number = candidates[index]\n",
    "        picked.append(pick_number)\n",
    "        candidates.pop(index)\n",
    "        \n",
    "    return picked"
   ]
  },
  {
   "cell_type": "markdown",
   "metadata": {
    "id": "5IKo5IdKjzz-"
   },
   "source": [
    "### Good Luck!!"
   ]
  },
  {
   "cell_type": "code",
   "execution_count": null,
   "metadata": {
    "id": "B2gPbhwtjzz_"
   },
   "outputs": [],
   "source": []
  }
 ],
 "metadata": {
  "colab": {
   "collapsed_sections": [],
   "name": "section1-python_basics.ipynb",
   "provenance": []
  },
  "kernelspec": {
   "display_name": "Python 3",
   "language": "python",
   "name": "python3"
  },
  "language_info": {
   "codemirror_mode": {
    "name": "ipython",
    "version": 3
   },
   "file_extension": ".py",
   "mimetype": "text/x-python",
   "name": "python",
   "nbconvert_exporter": "python",
   "pygments_lexer": "ipython3",
   "version": "3.7.9"
  }
 },
 "nbformat": 4,
 "nbformat_minor": 1
}
